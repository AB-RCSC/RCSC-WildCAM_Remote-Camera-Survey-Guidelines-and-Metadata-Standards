{
 "cells": [
  {
   "cell_type": "markdown",
   "id": "9a46fc2b",
   "metadata": {},
   "source": [
    "(#TOC_surv_guidelines_objectives)=\n",
    "# 4.0 Objectives\n",
    "\n",
    "An essential first step when designing any [survey](/3_glossary/3_Glossary.md#survey) is to clearly define its [objectives](/3_glossary/3_Glossary.md#survey_objectives). [Survey Objectives](/3_glossary/3_Glossary.md#survey_objectives) should be specific, measurable, achievable, relevant and time-bound (i.e., SMART). [Survey Objectives](/3_glossary/3_Glossary.md#survey_objectives) should describe the following:\n",
    "\n",
    "-   [Target Species](/3_glossary/3_Glossary.md#target_species) - the species that the [survey](/3_glossary/3_Glossary.md#survey) is designed to detect,\n",
    "\n",
    "-   [State variable(s)](/3_glossary/3_Glossary.md#state_variable) - a formal measure that summarizes the state of a community or population at a particular time (Wearn & Glover-Kapfer, 2017) (e.g., species richness or population abundance), and\n",
    "\n",
    "-   Proposed [modelling approach(es)](/3_glossary/3_Glossary.md#mods_modelling_approach) - the method used to analyze the camera data, which should depend on the [state variable](/3_glossary/3_Glossary.md#state_variable) (e.g., [occupancy models](/3_glossary/3_Glossary.md#mods_occupancy) [MacKenzie et al., 2002], [spatially explicit capture-recapture (SECR) models](/3_glossary/3_Glossary.md#mods_scr_secr) [e.g., Royle et al., 2009] for [density](/3_glossary/3_Glossary.md#density) estimation, etc.) and the [Target Species](/3_glossary/3_Glossary.md#target_species). To learn more about the different [modelling approaches](/3_glossary/3_Glossary.md#mods_modelling_approach), refer to [Appendix A - Table A1](/1_survey-guidelines/1_10.1_AppendixA-Tables.md#TOC_surv_guidelines_table_a1), [Appendix A - Table A2](/1_survey-guidelines/1_10.1_AppendixA-Tables.md#TOC_surv_guidelines_table_a2), and [WildCAM’s resource library](https://wildcams.ca/library/camera-trapping-papers-directory/).\n",
    "\n",
    "An example of a clearly defined [Survey Objective](/3_glossary/3_Glossary.md#survey_objectives) could be “to monitor trends in wolverine [occupancy](/3_glossary/3_Glossary.md#occupancy) at 5-year intervals from March – December 2020 to 2030 in wildlife management unit 539”.\n",
    "\n",
    "The [Survey Objective](/3_glossary/3_Glossary.md#survey_objectives) will determine the appropriate [study design](/3_glossary/3_Glossary.md#survey) and [deployment](/3_glossary/3_Glossary.md#deployment) considerations (e.g., [camera spacing](/3_glossary/3_Glossary.md#camera_spacing), [survey](/3_glossary/3_Glossary.md#survey) effort, attractants or not). For example, based on the above objective for our wolverine [occupancy](/3_glossary/3_Glossary.md#occupancy) [project](/3_glossary/3_Glossary.md#project), we “randomly selected [camera locations](/3_glossary/3_Glossary.md#camera_location) within a 15 km x 15 km grid cell with one camera per location and a total of 60 stations across our [study area](/3_glossary/3_Glossary.md#study_area). We will place [lure](/3_glossary/3_Glossary.md#baitlure_lure) dispensers at each [camera location](/3_glossary/3_Glossary.md#camera_location) to increase the likelihood of detecting a wolverine.” to increase the likelihood of detecting a wolverine.”"
   ]
  }
 ],
 "metadata": {
  "editor_options": {
   "markdown": {
    "wrap": "none"
   }
  },
  "jupytext": {
   "formats": "md:myst",
   "text_representation": {
    "extension": ".md",
    "format_name": "myst",
    "format_version": "1.16",
    "jupytext_version": "1.16.1"
   }
  },
  "kernelspec": {
   "display_name": "Python 3",
   "language": "python",
   "name": "python3"
  },
  "language_info": {
   "codemirror_mode": {
    "name": "ipython",
    "version": 3
   },
   "file_extension": ".py",
   "mimetype": "text/x-python",
   "name": "python",
   "nbconvert_exporter": "python",
   "pygments_lexer": "ipython3",
   "version": "3.12.4"
  },
  "source_map": [
   16
  ]
 },
 "nbformat": 4,
 "nbformat_minor": 5
}