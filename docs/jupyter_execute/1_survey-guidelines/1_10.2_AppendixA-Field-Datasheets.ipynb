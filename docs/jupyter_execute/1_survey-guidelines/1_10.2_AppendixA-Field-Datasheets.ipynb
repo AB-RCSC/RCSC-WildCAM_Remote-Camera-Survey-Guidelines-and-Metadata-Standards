{
 "cells": [
  {
   "cell_type": "markdown",
   "id": "0a095b41",
   "metadata": {},
   "source": [
    "(#TOC_surv_guidelines_appendix_a_field_datasheets)=\n",
    "# Appendix A - Field Datasheets\n",
    "***  \n",
    "\n",
    "(#FILES_surv_guidelines_datasheet_deployment)=\n",
    "\n",
    "**Camera Deployment Field Datasheet** \n",
    "\n",
    "<object data=\"https://ab-rcsc.github.io/RCSC-WildCAM_Remote-Camera-Survey-Guidelines-and-Metadata-Standards/_downloads/d3cd206f51a96914a0654fed959d171e/RCSC-WildCAM_RC-Survey-Guidelines-v2_Deployment-Datasheet_2024-04-01.pdf\" type=\"application/pdf\" width=\"880px\" height=\"1130px\">\n",
    "    <embed src=\"https://ab-rcsc.github.io/RCSC-WildCAM_Remote-Camera-Survey-Guidelines-and-Metadata-Standards/_downloads/d3cd206f51a96914a0654fed959d171e/RCSC-WildCAM_RC-Survey-Guidelines-v2_Deployment-Datasheet_2024-04-01.pdf\">\n",
    "        <p>This browser does not support PDFs. Please download the PDF to view it: <a href=\"https://ab-rcsc.github.io/RCSC-WildCAM_Remote-Camera-Survey-Guidelines-and-Metadata-Standards/_downloads/d3cd206f51a96914a0654fed959d171e/RCSC-WildCAM_RC-Survey-Guidelines-v2_Deployment-Datasheet_2024-04-01.pdf\">Download PDF</a>.</p>\n",
    "    </embed>\n",
    "</object>  \n",
    "<br/><br/>\n",
    "\n",
    "*Download the PDF*\n",
    "[Remote Camera Survey Guidelines: Camera Deployment Field Datasheet (RCSC et al., 2024)](./downloadable/RCSC-WildCAM_RC-Survey-Guidelines-v2_Deployment-Datasheet_2024-04-01.pdf)\n",
    "***  \n",
    "\n",
    "(#FILES_surv_guidelines_datasheet_test_image_sheet)=\n",
    "\n",
    "**Test Image Sheet** \n",
    "\n",
    "<object data=\"https://ab-rcsc.github.io/RCSC-WildCAM_Remote-Camera-Survey-Guidelines-and-Metadata-Standards/_downloads/9c06fc9f57c423c305ab872b3a918421/RCSC-WildCAM_RC-Survey-Guidelines-v2_Test-Image-Sheet_2024-04-01.pdf\" type=\"application/pdf\" width=\"1000px\" height=\"820px\">\n",
    "    <embed src=\"https://ab-rcsc.github.io/RCSC-WildCAM_Remote-Camera-Survey-Guidelines-and-Metadata-Standards/_downloads/9c06fc9f57c423c305ab872b3a918421/RCSC-WildCAM_RC-Survey-Guidelines-v2_Test-Image-Sheet_2024-04-01.pdf\">\n",
    "        <p>This browser does not support PDFs. Please download the PDF to view it: <a href=\"https://ab-rcsc.github.io/RCSC-WildCAM_Remote-Camera-Survey-Guidelines-and-Metadata-Standards/_downloads/9c06fc9f57c423c305ab872b3a918421/RCSC-WildCAM_RC-Survey-Guidelines-v2_Test-Image-Sheet_2024-04-01.pdf\">Download PDF</a>.</p>\n",
    "    </embed>\n",
    "</object>   \n",
    "<br/><br/>\n",
    "\n",
    "*Download the PDF*\n",
    "[Remote Camera Survey Guidelines: Test Image Sheet (RCSC et al., 2024)](./downloadable/RCSC-WildCAM_RC-Survey-Guidelines-v2_Test-Image-Sheet_2024-04-01.pdf)\n",
    "\n",
    "***  \n",
    "\n",
    "(#FILES_surv_guidelines_datasheet_service_retrieval)=\n",
    "\n",
    "**Camera Service/Retrieval Field Datasheet** \n",
    "\n",
    "<object data=\"https://ab-rcsc.github.io/RCSC-WildCAM_Remote-Camera-Survey-Guidelines-and-Metadata-Standards/_downloads/2f2ab1469c25a56e429005d513ab7b43/RCSC-WildCAM_RC-Survey-Guidelines-v2_ServiceRetrieval-Datasheet_2024-04-01.pdf\" type=\"application/pdf\" width=\"880px\" height=\"1130px\">\n",
    "    <embed src=\"https://ab-rcsc.github.io/RCSC-WildCAM_Remote-Camera-Survey-Guidelines-and-Metadata-Standards/_downloads/2f2ab1469c25a56e429005d513ab7b43/RCSC-WildCAM_RC-Survey-Guidelines-v2_ServiceRetrieval-Datasheet_2024-04-01.pdf\">\n",
    "        <p>This browser does not support PDFs. Please download the PDF to view it: <a href=\"https://ab-rcsc.github.io/RCSC-WildCAM_Remote-Camera-Survey-Guidelines-and-Metadata-Standards/_downloads/2f2ab1469c25a56e429005d513ab7b43/RCSC-WildCAM_RC-Survey-Guidelines-v2_ServiceRetrieval-Datasheet_2024-04-01.pdf\">Download PDF</a>.</p>\n",
    "    </embed>\n",
    "</object> \n",
    "<br/><br/>\n",
    "\n",
    "*Download the PDF*\n",
    "[Remote Camera Survey Guidelines: Camera Service/Retrieval Field Datasheet (RCSC et al., 2024)](./downloadable/RCSC-WildCAM_RC-Survey-Guidelines-v2_ServiceRetrieval-Datasheet_2024-04-01.pdf)\n",
    "\n",
    "***"
   ]
  }
 ],
 "metadata": {
  "editor_options": {
   "markdown": {
    "wrap": "none"
   }
  },
  "jupytext": {
   "formats": "md:myst",
   "text_representation": {
    "extension": ".md",
    "format_name": "myst",
    "format_version": "1.16",
    "jupytext_version": "1.16.1"
   }
  },
  "kernelspec": {
   "display_name": "Python 3",
   "language": "python",
   "name": "python3"
  },
  "language_info": {
   "codemirror_mode": {
    "name": "ipython",
    "version": 3
   },
   "file_extension": ".py",
   "mimetype": "text/x-python",
   "name": "python",
   "nbconvert_exporter": "python",
   "pygments_lexer": "ipython3",
   "version": "3.12.4"
  },
  "source_map": [
   16
  ]
 },
 "nbformat": 4,
 "nbformat_minor": 5
}