{
 "cells": [
  {
   "cell_type": "markdown",
   "id": "f487980c",
   "metadata": {},
   "source": [
    "(#TOC_surv_guidelines_appendix_b)=\n",
    "\n",
    "# Appendix B\n",
    "\n",
    "(TOC_surv_guidelines_fig_b1)=\n",
    "\n",
    "```{figure} ./figures/Survey-guidelines_DensityModels.jpg\n",
    ":align: center\n",
    "```\n",
    "\n",
    "**Figure B1.** \"Adapted from Gilbert et al. (2021) and Sun (unpublished). Decision tree for selecting camera trap density models. The models in the yellow rectangle are for marked and partially-marked populations; the remaining models are for unmarked populations. Note, the models in this decision tree are not necessarily ordered from strongest to weakest, but rather are organized by key features\" (Clarke et al., 2022)."
   ]
  }
 ],
 "metadata": {
  "editor_options": {
   "markdown": {
    "wrap": "none"
   }
  },
  "jupytext": {
   "formats": "md:myst",
   "text_representation": {
    "extension": ".md",
    "format_name": "myst",
    "format_version": "1.16",
    "jupytext_version": "1.16.1"
   }
  },
  "kernelspec": {
   "display_name": "Python 3",
   "language": "python",
   "name": "python3"
  },
  "language_info": {
   "codemirror_mode": {
    "name": "ipython",
    "version": 3
   },
   "file_extension": ".py",
   "mimetype": "text/x-python",
   "name": "python",
   "nbconvert_exporter": "python",
   "pygments_lexer": "ipython3",
   "version": "3.12.4"
  },
  "source_map": [
   17
  ]
 },
 "nbformat": 4,
 "nbformat_minor": 5
}