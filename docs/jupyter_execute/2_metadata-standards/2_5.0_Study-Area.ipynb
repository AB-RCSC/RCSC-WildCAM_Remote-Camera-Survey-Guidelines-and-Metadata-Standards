{
 "cells": [
  {
   "cell_type": "markdown",
   "id": "bc3891c4",
   "metadata": {},
   "source": [
    "(#TOC_md_standards_study_area)=\n",
    "\n",
    "# 5.0 Study Area\n",
    "\n",
    "A [**study area**](/3_glossary/3_Glossary.md#study_area) is a unique research, inventory or monitoring area (spatial boundary) within a [project](/3_glossary/3_Glossary.md#project). There may be multiple [study areas](/3_glossary/3_Glossary.md#study_area) within a single [project](/3_glossary/3_Glossary.md#project). Several factors may influence the spatial extent of the [study area](/3_glossary/3_Glossary.md#study_area), including the [Survey Objectives](/3_glossary/3_Glossary.md#survey_objectives), landscape features (e.g., habitat type, land uses, etc.), the biology of the [Target Species](/3_glossary/3_Glossary.md#target_species)' (e.g., dispersal ability, habitat preferences, etc.) and proposed method(s) of data analysis.\n",
    "\n",
    "(#TOC_md_standards_study_area_name)=\n",
    "\n",
    "## 5.1 Study Area Name\n",
    "\n",
    "A unique alphanumeric identifier for each [study area](/3_glossary/3_Glossary.md#study_area) (e.g.,\"oilsands_ref1\"). If only one area was surveyed, the [Project Name](/3_glossary/3_Glossary.md#project_name) and [Study Area Name](/3_glossary/3_Glossary.md#study_area_name) should be the same.\n",
    "\n",
    "\n",
    "(#TOC_md_standards_study_area_description)=\n",
    "\n",
    "## 5.2 Study Area Description\n",
    "\n",
    "A description for each unique research or monitoring area including its location, habitat type(s), land use(s) and habitat disturbances (where applicable).\n",
    "\n",
    "For example: \"Located in the SE corner of Birch Mountains Wildland Provincial Park in Boreal Highlands subregion. Bogs, pine, aspen and birch forest. No land use disturbance."
   ]
  }
 ],
 "metadata": {
  "editor_options": {
   "markdown": {
    "wrap": "none"
   }
  },
  "jupytext": {
   "formats": "md:myst",
   "text_representation": {
    "extension": ".md",
    "format_name": "myst",
    "format_version": "1.16",
    "jupytext_version": "1.16.1"
   }
  },
  "kernelspec": {
   "display_name": "Python 3",
   "language": "python",
   "name": "python3"
  },
  "language_info": {
   "codemirror_mode": {
    "name": "ipython",
    "version": 3
   },
   "file_extension": ".py",
   "mimetype": "text/x-python",
   "name": "python",
   "nbconvert_exporter": "python",
   "pygments_lexer": "ipython3",
   "version": "3.12.4"
  },
  "source_map": [
   16
  ]
 },
 "nbformat": 4,
 "nbformat_minor": 5
}