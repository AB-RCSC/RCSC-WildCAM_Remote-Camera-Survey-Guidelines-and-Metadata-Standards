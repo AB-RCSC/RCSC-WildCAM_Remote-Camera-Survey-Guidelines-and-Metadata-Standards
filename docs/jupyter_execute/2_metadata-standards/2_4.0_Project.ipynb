{
 "cells": [
  {
   "cell_type": "markdown",
   "id": "98388135",
   "metadata": {},
   "source": [
    "(#TOC_md_standards_project)=\n",
    "\n",
    "# 4.0 Project\n",
    "\n",
    "A [**project**](/3_glossary/3_Glossary.md#project) is a scientific study, inventory or monitoring program that has a certain objective, defined methods, and a defined boundary in space and time. Careful consideration of the objectives and survey design for any remote camera [project](/3_glossary/3_Glossary.md#project) is encouraged. Recommendations on the appropriate survey designs to achieve various objectives are available in the [Remote Camera Survey Guidelines](https://ab-rcsc.github.io/RCSC-WildCAM_Remote-Camera-Survey-Guidelines-and-Metadata-Standards/1_survey-guidelines/1_0.1_Citation-and-Info.html) (RCSC et al., 2024).\n",
    "\n",
    "(#TOC_md_standards_project_name)=\n",
    "\n",
    "## 4.1 Project Name\n",
    "\n",
    "The [**Project Name**](/3_glossary/3_Glossary.md#project_name) is a unique alphanumeric identifier for each [project](/3_glossary/3_Glossary.md#project). Ideally, the [Project Name](/3_glossary/3_Glossary.md#project_name) should include an abbreviation for the organization, a brief [project](/3_glossary/3_Glossary.md#project) name, and the year the [project](/3_glossary/3_Glossary.md#project) began (e.g., \" uofa_oilsands_2018\").\n",
    "\n",
    "(#TOC_md_standards_project_coordinator)=\n",
    "\n",
    "## 4.2 Project Coordinator\n",
    "\n",
    "The first and last name of the primary contact for the [project](/3_glossary/3_Glossary.md#project).\n",
    "\n",
    "(#TOC_md_standards_project_coordinator_email)=\n",
    "\n",
    "## 4.3 Project Coordinator Email\n",
    "\n",
    "The email address of the [Project Coordinator](/3_glossary/3_Glossary.md#project_coordinator).\n",
    "\n",
    "(#TOC_md_standards_project_description)=\n",
    "\n",
    "## 4.4 Project Description\n",
    "\n",
    "Describe the [project](/3_glossary/3_Glossary.md#project) objectives(s) and general methods.\n",
    "\n",
    "For example: \"To compare wolf [occupancy](/3_glossary/3_Glossary.md#occupancy) in the oil sands region of north-eastern Alberta in two areas with high energy development and two reference areas with little development.”"
   ]
  }
 ],
 "metadata": {
  "editor_options": {
   "markdown": {
    "wrap": "none"
   }
  },
  "jupytext": {
   "formats": "md:myst",
   "text_representation": {
    "extension": ".md",
    "format_name": "myst",
    "format_version": "1.16",
    "jupytext_version": "1.16.1"
   }
  },
  "kernelspec": {
   "display_name": "Python 3",
   "language": "python",
   "name": "python3"
  },
  "language_info": {
   "codemirror_mode": {
    "name": "ipython",
    "version": 3
   },
   "file_extension": ".py",
   "mimetype": "text/x-python",
   "name": "python",
   "nbconvert_exporter": "python",
   "pygments_lexer": "ipython3",
   "version": "3.12.4"
  },
  "source_map": [
   16
  ]
 },
 "nbformat": 4,
 "nbformat_minor": 5
}