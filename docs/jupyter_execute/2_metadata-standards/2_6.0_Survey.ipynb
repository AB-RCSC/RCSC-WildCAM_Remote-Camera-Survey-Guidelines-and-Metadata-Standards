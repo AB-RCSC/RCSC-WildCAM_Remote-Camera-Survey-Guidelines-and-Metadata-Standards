{
 "cells": [
  {
   "cell_type": "markdown",
   "id": "a9baaf82",
   "metadata": {},
   "source": [
    "(#TOC_md_standards_surveys)=\n",
    "# 6.0 Surveys\n",
    "\n",
    "A [survey](/3_glossary/3_Glossary.md#survey) is a unique [deployment](/3_glossary/3_Glossary.md#deployment) period (temporal extent) within a [project](/3_glossary/3_Glossary.md#project). There may be multiple surveys in a single [project](/3_glossary/3_Glossary.md#project). However, if multiple [surveys](/3_glossary/3_Glossary.md#survey) are completed in the same [study area](/3_glossary/3_Glossary.md#study_area) and following the same [Survey Design](/3_glossary/3_Glossary.md#survey_design) and methods of data collection, the [project](/3_glossary/3_Glossary.md#project) and [survey](/3_glossary/3_Glossary.md#survey) information may be the same. If a [project](/3_glossary/3_Glossary.md#project) includes more than one type of [survey](/3_glossary/3_Glossary.md#survey), each should be included separately, with a unique [Survey Name](/3_glossary/3_Glossary.md#survey_name) and [survey](/3_glossary/3_Glossary.md#survey)-specific information.\n",
    "\n",
    "(#TOC_md_standards_survey_name)=\n",
    "## 6.1 Survey Name\n",
    "\n",
    "A unique alphanumeric identifier for each [survey](/3_glossary/3_Glossary.md#survey) period (e.g., \"fortmc_1\").\n",
    "\n",
    "(#TOC_md_standards_survey_objectives)=\n",
    "\n",
    "## 6.2 Survey Objectives\n",
    "\n",
    "Describe the specific objectives of each [survey](/3_glossary/3_Glossary.md#survey) within a [project](/3_glossary/3_Glossary.md#project), including the [Target Species](/3_glossary/3_Glossary.md#target_species), and [state variables](/3_glossary/3_Glossary.md#state_variable) (e.g., [occupancy](/3_glossary/3_Glossary.md#occupancy), [density](/3_glossary/3_Glossary.md#density)), and proposed [modelling approach(es)](/3_glossary/3_Glossary.md#mods_modelling_approach). [Survey Objectives](/3_glossary/3_Glossary.md#survey_objectives) should be specific, measurable, achievable, relevant, and time-bound (i.e., SMART).’\n",
    "\n",
    "For example: \"To monitor trends in wolf occupancy at 5-year intervals from January – December 2020 to 2023.\"\n",
    "\n",
    "(#TOC_md_standards_target_species)=\n",
    "\n",
    "## 6.3 Target Species\n",
    "\n",
    "The common name(s) of the species that the [survey](/3_glossary/3_Glossary.md#survey) was designed to detect (e.g., \"gray wolf\").\n",
    "\n",
    "If there is more than one [Target Species](/3_glossary/3_Glossary.md#target_species), list the species in alphabetical order (e.g., \"coyote, moose, mule deer”). Alternatively, use the genus common name where appropriate (e.g., \"genus odocoileus\" for mule and white-tailed deer).\n",
    "\n",
    "(#TOC_md_standards_survey_design)=\n",
    "\n",
    "## 6.4 Survey Design\n",
    "\n",
    "Survey Design refers to the spatial arrangement of remote cameras within the [study area](/3_glossary/3_Glossary.md#study_area) for an individual survey. If “Hierarchical (multiple)\\*” include additional details in the [Survey Design Description](/3_glossary/3_Glossary.md#survey_design_description).\n",
    "\n",
    "Note that we refer to different configurations of cameras more generally as study design and sampling design; however, the term “[*Survey Design*](https://ualbertaca-my.sharepoint.com/personal/cjsteven_ualberta_ca/Documents/RCSC_RC-Survey-Guidelines_AB-Metadata-Standards/l)“ refers to study design as it applies to an individual [survey](/3_glossary/3_Glossary.md#survey). There may be multiple [Survey Designs](/3_glossary/3_Glossary.md#survey_design) for [survey](/3_glossary/3_Glossary.md#survey) within a [project](/3_glossary/3_Glossary.md#project); if this occurs, the [Survey Design](https://ualbertaca-my.sharepoint.com/personal/cjsteven_ualberta_ca/Documents/RCSC_RC-Survey-Guidelines_AB-Metadata-Standards/l) should be reported separately for each [survey](/3_glossary/3_Glossary.md#survey).\n",
    "\n",
    "Select **one** of the [Survey Designs](/3_glossary/3_Glossary.md#survey_design) from the list provided:\n",
    "\n",
    "-   **\"[Simple random](/3_glossary/3_Glossary.md#sampledesign_random)”** (randomized [camera locations](/3_glossary/3_Glossary.md#camera_location))\n",
    "\n",
    "-   **\"Systematic\"** (regular pattern - e.g., grid; across disturbance gradient or reference sites)\n",
    "\n",
    "-   **\"[Stratified](/3_glossary/3_Glossary.md#sampledesign_stratified)\"** ([camera locations](/3_glossary/3_Glossary.md#camera_location) in pre-defined \"strata\", e.g., habitat types)\n",
    "\n",
    "-   **\"[Clustered](/3_glossary/3_Glossary.md#sampledesign_clustered)\"** (multiple [camera locations](/3_glossary/3_Glossary.md#camera_location) at a sample station; can be used with Systematic or [Stratified](/3_glossary/3_Glossary.md#sampledesign_stratified) design)\n",
    "\n",
    "-   **“[Paired](/3_glossary/3_Glossary.md#sampledesign_paired)\"** (two [camera locations](/3_glossary/3_Glossary.md#camera_location) in close proximity to one another (\"paired cameras\"), or when one or more cameras are at two separate [camera locations](/3_glossary/3_Glossary.md#camera_location) that are in close proximity or with some characteristics in common (\"paired sites\")\n",
    "  \n",
    "-   **\"[Targeted](/3_glossary/3_Glossary.md#sampledesign_targeted)\"** ([camera locations](/3_glossary/3_Glossary.md#camera_location) or [sample stations](/3_glossary/3_Glossary.md#sample_station) with known or suspected high activity levels; e.g., game trails, mineral licks, etc.)\n",
    "\n",
    "-   **\"Convenience\"** ([camera locations](/3_glossary/3_Glossary.md#camera_location) or [sample stations](/3_glossary/3_Glossary.md#sample_station) based on logistic considerations; e.g., remoteness, access constraints, and/or costs)\n",
    "\n",
    "-   **\"Hierarchical (Multiple)¶\"** (e.g., [Systematic](/3_glossary/3_Glossary.md#sampledesign_systematic) and [Stratified](/3_glossary/3_Glossary.md#sampledesign_stratified); describe in [Survey Design Description](/3_glossary/3_Glossary.md#survey_design_description))\n",
    "\n",
    "-   **\"Other¶\"** (describe in [Survey Design Description](/3_glossary/3_Glossary.md#survey_design_description))\n",
    "\n",
    "-   **\"Unknown\"**\n",
    "\n",
    "For additional information on [Survey Designs](/3_glossary/3_Glossary.md#survey_design), refer to the [Remote Camera Survey Guidelines](https://ab-rcsc.github.io/RCSC-WildCAM_Remote-Camera-Survey-Guidelines-and-Metadata-Standards/1_survey-guidelines/1_0.1_Citation-and-Info.html) (RCSC et al., 2024).\n",
    "\n",
    "(#TOC_md_standards_survey_design_description)=\n",
    "\n",
    "## 6.5 Survey Design Description (optional)\n",
    "\n",
    "Describe any additional details about your [Survey Design](/3_glossary/3_Glossary.md#survey_design).\n",
    "\n",
    "If you selected the \"Hierarchical (multiple)\" option from the [Survey Design](/3_glossary/3_Glossary.md#survey_design) list, report all the [Survey Designs](/3_glossary/3_Glossary.md#survey_design) as a comma delimited list from larger to smaller spatial scales. To help parse out this information later most easily, we recommend using a format that includes a header followed by the various [Survey Designs](/3_glossary/3_Glossary.md#survey_design), e.g., \"[survey design](/3_glossary/3_Glossary.md#survey_design)[[Systematic](/3_glossary/3_Glossary.md#sampledesign_systematic),[Convenience](/3_glossary/3_Glossary.md#sampledesign_convenience)].\"\n",
    "\n",
    "For example: \"[survey_design](/3_glossary/3_Glossary.md#survey_design)[[Systematic](/3_glossary/3_Glossary.md#sampledesign_systematic),[Convenience](/3_glossary/3_Glossary.md#sampledesign_convenience)]; one [camera location](/3_glossary/3_Glossary.md#camera_location) within each township. Each location was within 100m of a secondary road or cutline. [Lure](/3_glossary/3_Glossary.md#baitlure_lure) dispensers with Gorman's Gumbo (long line) were set-up at each [camera location](/3_glossary/3_Glossary.md#camera_location) during initial camera [deployment](/3_glossary/3_Glossary.md#deployment) and not revisited during the [survey](/3_glossary/3_Glossary.md#survey) period.\"\n",
    "\n",
    "If you selected the \"Other\" option from the [Survey Design](/3_glossary/3_Glossary.md#survey_design) list, provide information about the design used.\n",
    "\n",
    "If you set the [Event Type](/3_glossary/3_Glossary.md#event_type) field to \"[Sequence](/3_glossary/3_Glossary.md#sequence),\" and are using a user-defined time threshold (OR \"[inter-detection interval](/3_glossary/3_Glossary.md#inter_detection_interval)\", e.g., 30 minutes) to define independent [detection \"events\"](/3_glossary/3_Glossary.md#detection_event) within a [sequence](/3_glossary/3_Glossary.md#sequence), report the [inter-detection interval](/3_glossary/3_Glossary.md#inter_detection_interval) (or \"sequence definition\") in the [Survey Design Description](/3_glossary/3_Glossary.md#survey_design_description). Refer to the [Image/Sequence section](/2_metadata-standards/2_9.0_Image_Sequence.md#TOC_md_standards_image_sequence) for further details.\n",
    "\n",
    "(#TOC_md_standards_event_type)=\n",
    "\n",
    "## 6.6 Event Type\n",
    "\n",
    "Report whether detections were reported as an individual image captured by the camera (\"Image\"), a \"[Sequence](/3_glossary/3_Glossary.md#sequence),\" or \"[Tag](/3_glossary/3_Glossary.md#tag)\".\n",
    "\n",
    "A \"[**tag**](/3_glossary/3_Glossary.md#tag)\" refers to when individuals, or groups of individuals, are categorized within an image, regardless of whether the information applies to all of the individuals in the image. A single [tag](/3_glossary/3_Glossary.md#tag) is applied to categorize one or more individuals with the same combination of characteristics (e.g., [Adult](/3_glossary/3_Glossary.md#age_class_adult) Males displaying the same [Behaviour](/3_glossary/3_Glossary.md#behaviour)). Conversely, multiple [tags](/3_glossary/3_Glossary.md#tag) are applied when individuals in an image differ in their characteristics (e.g., an [Adult](/3_glossary/3_Glossary.md#age_class_adult) and a [Juvenile](/3_glossary/3_Glossary.md#age_class_juvenile), all else remaining equal, are tagged separately). This could also occur for [Age Class](/3_glossary/3_Glossary.md#age_class), [Behaviour](/3_glossary/3_Glossary.md#behaviour), [Human Transport Mode/Activity](/3_glossary/3_Glossary.md#human_transport_mode_activity), etc. Since multiple [tags](/3_glossary/3_Glossary.md#tag) can occur for a single image, there may be multiple data rows for the same image (if the [Event Type](/3_glossary/3_Glossary.md#event_type) is at the \"[Tag](/3_glossary/3_Glossary.md#tag)\" level)."
   ]
  }
 ],
 "metadata": {
  "editor_options": {
   "markdown": {
    "wrap": "none"
   }
  },
  "jupytext": {
   "formats": "md:myst",
   "text_representation": {
    "extension": ".md",
    "format_name": "myst",
    "format_version": "1.16",
    "jupytext_version": "1.16.1"
   }
  },
  "kernelspec": {
   "display_name": "Python 3",
   "language": "python",
   "name": "python3"
  },
  "language_info": {
   "codemirror_mode": {
    "name": "ipython",
    "version": 3
   },
   "file_extension": ".py",
   "mimetype": "text/x-python",
   "name": "python",
   "nbconvert_exporter": "python",
   "pygments_lexer": "ipython3",
   "version": "3.12.4"
  },
  "source_map": [
   16
  ]
 },
 "nbformat": 4,
 "nbformat_minor": 5
}